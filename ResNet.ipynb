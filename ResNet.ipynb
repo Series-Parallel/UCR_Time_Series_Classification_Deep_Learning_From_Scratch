{
  "nbformat": 4,
  "nbformat_minor": 0,
  "metadata": {
    "colab": {
      "provenance": [],
      "gpuType": "T4",
      "authorship_tag": "ABX9TyNUuIrCSLfh4I46s19p9tTr",
      "include_colab_link": true
    },
    "kernelspec": {
      "name": "python3",
      "display_name": "Python 3"
    },
    "language_info": {
      "name": "python"
    },
    "accelerator": "GPU"
  },
  "cells": [
    {
      "cell_type": "markdown",
      "metadata": {
        "id": "view-in-github",
        "colab_type": "text"
      },
      "source": [
        "<a href=\"https://colab.research.google.com/github/Series-Parallel/UCR_Time_Series_Classification_Deep_Learning_From_Scratch/blob/main/ResNet.ipynb\" target=\"_parent\"><img src=\"https://colab.research.google.com/assets/colab-badge.svg\" alt=\"Open In Colab\"/></a>"
      ]
    },
    {
      "cell_type": "code",
      "execution_count": null,
      "metadata": {
        "id": "RgAsXAp7nJFq"
      },
      "outputs": [],
      "source": [
        "!pip install lightning > /dev/null"
      ]
    },
    {
      "cell_type": "code",
      "source": [
        "import pandas as pd\n",
        "import numpy as np\n",
        "import torch\n",
        "import torch.nn as nn\n",
        "\n",
        "import torch.nn.functional as F\n",
        "from torch.utils.data import DataLoader, TensorDataset\n",
        "\n",
        "import lightning as L\n",
        "from torch.optim import Adam"
      ],
      "metadata": {
        "id": "xTr_ZJj1nSAN"
      },
      "execution_count": null,
      "outputs": []
    },
    {
      "cell_type": "code",
      "source": [
        "def reducer(filename):\n",
        "  data = np.loadtxt(filename, delimiter=',')\n",
        "  Y = data[:,0]\n",
        "  X = data[:,1:]\n",
        "  return X, Y"
      ],
      "metadata": {
        "id": "7s4ocyrOnTvP"
      },
      "execution_count": null,
      "outputs": []
    },
    {
      "cell_type": "code",
      "source": [
        "x_train, y_train = reducer(\"Adiac_TRAIN.txt\")\n",
        "x_test, y_test = reducer(\"Adiac_TEST.txt\")"
      ],
      "metadata": {
        "id": "3hRXyJaCnU0_"
      },
      "execution_count": null,
      "outputs": []
    },
    {
      "cell_type": "code",
      "source": [
        "classes = len(np.unique(y_test))"
      ],
      "metadata": {
        "id": "nDGTo0a0nV7V"
      },
      "execution_count": null,
      "outputs": []
    },
    {
      "cell_type": "code",
      "source": [
        "y_train = ((y_train - y_train.min())/(y_train.max() - y_train.min()) * (classes - 1)).astype(int)\n",
        "y_test = ((y_test - y_test.min())/ (y_test.max() - y_test.min()) * (classes - 1)).astype(int)"
      ],
      "metadata": {
        "id": "Er9Z3kFInXI_"
      },
      "execution_count": null,
      "outputs": []
    },
    {
      "cell_type": "code",
      "source": [
        "y_train_tensor = torch.tensor(y_train, dtype=torch.long)\n",
        "y_test_tensor = torch.tensor(y_test, dtype=torch.long)"
      ],
      "metadata": {
        "id": "WKvlNWflnYhl"
      },
      "execution_count": null,
      "outputs": []
    },
    {
      "cell_type": "code",
      "source": [
        "x_train_mean = x_train.mean()\n",
        "x_train_std = x_train.std()\n",
        "x_train = (x_train - x_train_mean) / x_train_std\n",
        "x_test = (x_test - x_train_mean) / x_train_std"
      ],
      "metadata": {
        "id": "H8Cp7hGAnZ_t"
      },
      "execution_count": null,
      "outputs": []
    },
    {
      "cell_type": "code",
      "source": [
        "x_train = x_train.reshape(x_train.shape[0], 1, x_train.shape[1], 1)\n",
        "x_test = x_test.reshape(x_test.shape[0], 1, x_test.shape[1], 1)"
      ],
      "metadata": {
        "id": "-WvevN7tnb84"
      },
      "execution_count": null,
      "outputs": []
    },
    {
      "cell_type": "code",
      "source": [
        "input_train = torch.tensor(x_train, dtype=torch.float32)\n",
        "input_test = torch.tensor(x_test, dtype=torch.float32)"
      ],
      "metadata": {
        "id": "zeQv714Wncfx"
      },
      "execution_count": null,
      "outputs": []
    },
    {
      "cell_type": "code",
      "source": [
        "train_dataset = TensorDataset(input_train, y_train_tensor)\n",
        "train_dataloader = DataLoader(train_dataset, batch_size=16, shuffle=True)"
      ],
      "metadata": {
        "id": "dT0B9t-gnd-6"
      },
      "execution_count": null,
      "outputs": []
    },
    {
      "cell_type": "code",
      "source": [
        "class ResNetBlock(nn.Module):\n",
        "  def __init__(self, in_channels, out_channels, kernel_sizes = (8, 5, 3)):\n",
        "    super().__init__()\n",
        "\n",
        "    self.conv1 = nn.Conv2d(in_channels, out_channels, kernel_size= kernel_sizes[0], padding ='same')\n",
        "    self.bn1 = nn.BatchNorm2d(out_channels)\n",
        "\n",
        "\n",
        "    self.conv2 = nn.Conv2d(out_channels, out_channels, kernel_size= kernel_sizes[1], padding ='same')\n",
        "    self.bn2 = nn.BatchNorm2d(out_channels)\n",
        "\n",
        "    self.conv3 = nn.Conv2d(out_channels, out_channels, kernel_size= kernel_sizes[2], padding ='same')\n",
        "    self.bn3 = nn.BatchNorm2d(out_channels)\n",
        "\n",
        "    self.shortcut = nn.Sequential()\n",
        "    if in_channels != out_channels:\n",
        "      self.shortcut = nn.Sequential(\n",
        "          nn.Conv2d(in_channels, out_channels, kernel_size=1, padding='same'),\n",
        "          nn.BatchNorm2d(out_channels)\n",
        "      )\n",
        "\n",
        "  def forward(self, x):\n",
        "    identity = self.shortcut(x)\n",
        "\n",
        "    out = F.relu(self.bn1(self.conv1(x)))\n",
        "    out = F.relu(self.bn2(self.conv2(out)))\n",
        "    out = self.bn3(self.conv3(out))\n",
        "\n",
        "    out += identity\n",
        "    return F.relu(out)"
      ],
      "metadata": {
        "id": "nQHbFwtJnfXu"
      },
      "execution_count": null,
      "outputs": []
    },
    {
      "cell_type": "code",
      "source": [
        "class ResNet(L.LightningModule):\n",
        "\n",
        "  L.seed_everything(seed=813306)\n",
        "\n",
        "  def __init__(self, input_shape, num_classes, n_feature_maps = 64):\n",
        "    super().__init__()\n",
        "\n",
        "    self.block1 = ResNetBlock(in_channels=1, out_channels=n_feature_maps)\n",
        "    self.block2 = ResNetBlock(in_channels=n_feature_maps, out_channels=n_feature_maps*2)\n",
        "    self.block3 = ResNetBlock(in_channels=n_feature_maps*2, out_channels=n_feature_maps*2)\n",
        "\n",
        "    self.global_pool = nn.AdaptiveAvgPool2d((1,1))\n",
        "    self.fc = nn.Linear(n_feature_maps*2, num_classes)\n",
        "    self.loss = nn.CrossEntropyLoss()\n",
        "\n",
        "  def forward(self,x):\n",
        "    x = self.block1(x)\n",
        "    x = self.block2(x)\n",
        "    x = self.block3(x)\n",
        "\n",
        "    self.last_conv_output = x.clone()\n",
        "\n",
        "    x = self.global_pool(x)\n",
        "    x = torch.flatten(x,1)\n",
        "    x = self.fc(x)\n",
        "\n",
        "    return x\n",
        "\n",
        "  def training_step(self, batch, btach_idx):\n",
        "    inputs, labels = batch\n",
        "    outputs = self.forward(inputs)\n",
        "    loss = self.loss(outputs,labels)\n",
        "    self.log('train_loss', loss)\n",
        "    return loss\n",
        "\n",
        "  def configure_optimizers(self):\n",
        "    return Adam(self.parameters(), lr=0.001)\n"
      ],
      "metadata": {
        "id": "8LzyGfiBngPV"
      },
      "execution_count": null,
      "outputs": []
    },
    {
      "cell_type": "code",
      "source": [
        "input_shape = input_train.shape[1:]"
      ],
      "metadata": {
        "id": "O8eAz5aInh8W"
      },
      "execution_count": null,
      "outputs": []
    },
    {
      "cell_type": "code",
      "source": [
        "num_classes = len(torch.unique(y_train_tensor))"
      ],
      "metadata": {
        "id": "qk-MXjI3njXv"
      },
      "execution_count": null,
      "outputs": []
    },
    {
      "cell_type": "code",
      "source": [
        "model = ResNet(input_shape, num_classes)"
      ],
      "metadata": {
        "id": "xjd5ZQKpnlrV"
      },
      "execution_count": null,
      "outputs": []
    },
    {
      "cell_type": "code",
      "source": [
        "trainer = L.Trainer(max_epochs=1500)\n",
        "trainer.fit(model, train_dataloaders=train_dataloader)"
      ],
      "metadata": {
        "id": "ivg03AbFnmvF"
      },
      "execution_count": null,
      "outputs": []
    },
    {
      "cell_type": "code",
      "source": [
        "model.eval()\n",
        "\n",
        "# Run predictions\n",
        "with torch.no_grad():\n",
        "    predictions = model(input_test)\n",
        "    predicted_labels = torch.argmax(predictions, dim=1)\n",
        "    accuracy = torch.sum(predicted_labels == y_test_tensor).item() / len(y_test_tensor)\n",
        "\n",
        "print(f\"Test Accuracy: {accuracy:.4f}\")"
      ],
      "metadata": {
        "id": "UhuE0FP-wv2B"
      },
      "execution_count": null,
      "outputs": []
    }
  ]
}