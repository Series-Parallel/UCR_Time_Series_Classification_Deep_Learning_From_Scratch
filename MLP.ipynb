{
  "nbformat": 4,
  "nbformat_minor": 0,
  "metadata": {
    "colab": {
      "provenance": [],
      "authorship_tag": "ABX9TyOVZCcBy20h0lVl57hz3TIr",
      "include_colab_link": true
    },
    "kernelspec": {
      "name": "python3",
      "display_name": "Python 3"
    },
    "language_info": {
      "name": "python"
    }
  },
  "cells": [
    {
      "cell_type": "markdown",
      "metadata": {
        "id": "view-in-github",
        "colab_type": "text"
      },
      "source": [
        "<a href=\"https://colab.research.google.com/github/Series-Parallel/UCR_Time_Series_Classification_Deep_Learning_From_Scratch/blob/main/MLP.ipynb\" target=\"_parent\"><img src=\"https://colab.research.google.com/assets/colab-badge.svg\" alt=\"Open In Colab\"/></a>"
      ]
    },
    {
      "cell_type": "code",
      "execution_count": 1,
      "metadata": {
        "id": "vHwvi1QqBzEG"
      },
      "outputs": [],
      "source": [
        "import pandas as pd\n",
        "import numpy as np\n",
        "import torch\n",
        "import torch.nn\n",
        "import torch.nn.functional as F"
      ]
    },
    {
      "cell_type": "code",
      "source": [
        "np.random.seed(813306)"
      ],
      "metadata": {
        "id": "S0d2-e0PMiJw"
      },
      "execution_count": 2,
      "outputs": []
    },
    {
      "cell_type": "code",
      "source": [
        "def reducer(filename):\n",
        "  data = np.loadtxt(filename, delimiter=',')\n",
        "  Y = data[:,0]\n",
        "  X = data[:,1:]\n",
        "  return X, Y"
      ],
      "metadata": {
        "id": "f6_badq7N7jA"
      },
      "execution_count": 3,
      "outputs": []
    },
    {
      "cell_type": "markdown",
      "source": [
        "# playing and messing around with the data"
      ],
      "metadata": {
        "id": "Na076dWwSAG9"
      }
    },
    {
      "cell_type": "code",
      "source": [
        "x_train, y_train = reducer(\"Adiac_TRAIN.txt\")"
      ],
      "metadata": {
        "id": "I0CBSWoQOaOr"
      },
      "execution_count": 4,
      "outputs": []
    },
    {
      "cell_type": "code",
      "source": [
        "x_test, y_test = reducer(\"Adiac_TEST.txt\")"
      ],
      "metadata": {
        "id": "y-Xh9PpHO1xr"
      },
      "execution_count": 5,
      "outputs": []
    },
    {
      "cell_type": "code",
      "source": [
        "#print(len(np.unique(y_train)))"
      ],
      "metadata": {
        "id": "fb8QLICuPfL6"
      },
      "execution_count": 6,
      "outputs": []
    },
    {
      "cell_type": "code",
      "source": [
        "classes = len(np.unique(y_test))\n",
        "classes"
      ],
      "metadata": {
        "colab": {
          "base_uri": "https://localhost:8080/"
        },
        "id": "rpKBxnPGPDnc",
        "outputId": "445d9cbf-9591-4295-ac62-16e882f7d43a"
      },
      "execution_count": 7,
      "outputs": [
        {
          "output_type": "execute_result",
          "data": {
            "text/plain": [
              "37"
            ]
          },
          "metadata": {},
          "execution_count": 7
        }
      ]
    },
    {
      "cell_type": "markdown",
      "source": [
        "normalizing the labels"
      ],
      "metadata": {
        "id": "ggCHopFiS6h6"
      }
    },
    {
      "cell_type": "code",
      "source": [
        "y_train = (y_train - y_train.min())/(y_train.max() - y_train.min()) * (classes - 1)\n",
        "y_test = (y_test - y_test.min())/ (y_test.max() - y_test.min()) * (classes - 1)"
      ],
      "metadata": {
        "id": "lP4XnOmOPZFB"
      },
      "execution_count": 8,
      "outputs": []
    },
    {
      "cell_type": "code",
      "source": [
        "batch_size = min(x_train.shape[0]/10, 16)"
      ],
      "metadata": {
        "id": "OF7To3VoQOOp"
      },
      "execution_count": 9,
      "outputs": []
    },
    {
      "cell_type": "code",
      "source": [
        "y_train = torch.tensor(y_train).long()\n",
        "y_test = torch.tensor(y_test).long()"
      ],
      "metadata": {
        "id": "DfHnpeR2Qeoq"
      },
      "execution_count": 10,
      "outputs": []
    },
    {
      "cell_type": "code",
      "source": [
        "Y_train = F.one_hot(y_train, classes)\n",
        "Y_test = F.one_hot(y_test, classes)"
      ],
      "metadata": {
        "id": "_6GyemwrRNuj"
      },
      "execution_count": 11,
      "outputs": []
    },
    {
      "cell_type": "markdown",
      "source": [
        "standarizing time series data"
      ],
      "metadata": {
        "id": "JtrIMUfqTB0B"
      }
    },
    {
      "cell_type": "code",
      "source": [
        "x_train = torch.tensor(x_train).long()\n",
        "x_test = torch.tensor(x_test).long()"
      ],
      "metadata": {
        "id": "XYobdpF_R-14"
      },
      "execution_count": 12,
      "outputs": []
    },
    {
      "cell_type": "code",
      "source": [
        "x_train_mean = x_train.float().mean()\n",
        "x_train_std = x_train.float().std()"
      ],
      "metadata": {
        "id": "bXVBHhjKSvBE"
      },
      "execution_count": 13,
      "outputs": []
    },
    {
      "cell_type": "code",
      "source": [
        "x_train = (x_train - x_train_mean)/x_train_std\n",
        "x_test = (x_test - x_train_mean)/x_train_std"
      ],
      "metadata": {
        "id": "oEB6ZuO-Sytg"
      },
      "execution_count": 15,
      "outputs": []
    },
    {
      "cell_type": "code",
      "source": [],
      "metadata": {
        "id": "SKeaRTAqTeT5"
      },
      "execution_count": null,
      "outputs": []
    }
  ]
}