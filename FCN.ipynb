{
  "nbformat": 4,
  "nbformat_minor": 0,
  "metadata": {
    "colab": {
      "provenance": [],
      "gpuType": "V28",
      "authorship_tag": "ABX9TyPWLtlwofqfh/5LDHDmCse3",
      "include_colab_link": true
    },
    "kernelspec": {
      "name": "python3",
      "display_name": "Python 3"
    },
    "language_info": {
      "name": "python"
    },
    "accelerator": "TPU"
  },
  "cells": [
    {
      "cell_type": "markdown",
      "metadata": {
        "id": "view-in-github",
        "colab_type": "text"
      },
      "source": [
        "<a href=\"https://colab.research.google.com/github/Series-Parallel/UCR_Time_Series_Classification_Deep_Learning_From_Scratch/blob/main/FCN.ipynb\" target=\"_parent\"><img src=\"https://colab.research.google.com/assets/colab-badge.svg\" alt=\"Open In Colab\"/></a>"
      ]
    },
    {
      "cell_type": "code",
      "execution_count": null,
      "metadata": {
        "id": "nScIylBDn-g-"
      },
      "outputs": [],
      "source": [
        "!pip install lightning > /dev/null"
      ]
    },
    {
      "cell_type": "code",
      "source": [
        "import pandas as pd\n",
        "import numpy as np\n",
        "import torch\n",
        "import torch.nn as nn\n",
        "import torch.nn.functional as F\n",
        "\n",
        "import lightning as L\n",
        "from lightning.pytorch.callbacks import ModelCheckpoint\n",
        "from lightning.pytorch.callbacks import Callback\n",
        "\n",
        "from torch.utils.data import DataLoader, TensorDataset\n",
        "from torch.optim import Adam\n",
        "\n",
        "from sklearn.preprocessing import MinMaxScaler\n",
        "\n",
        "import matplotlib.pyplot as plt"
      ],
      "metadata": {
        "id": "pAPX59UUvszV"
      },
      "execution_count": null,
      "outputs": []
    },
    {
      "cell_type": "code",
      "source": [
        "def reducer(filename):\n",
        "  data = np.loadtxt(filename, delimiter=',')\n",
        "  Y = data[:,0]\n",
        "  X = data[:,1:]\n",
        "  return X, Y"
      ],
      "metadata": {
        "id": "ptgF1lNZv0L6"
      },
      "execution_count": null,
      "outputs": []
    },
    {
      "cell_type": "code",
      "source": [
        "x_train, y_train = reducer(\"Adiac_TRAIN.txt\")\n",
        "x_test, y_test = reducer(\"Adiac_TEST.txt\")"
      ],
      "metadata": {
        "id": "9QoCkqPDv2ct"
      },
      "execution_count": null,
      "outputs": []
    },
    {
      "cell_type": "code",
      "source": [
        "classes = len(np.unique(y_test))"
      ],
      "metadata": {
        "id": "cC1iNQV2wRgk"
      },
      "execution_count": null,
      "outputs": []
    },
    {
      "cell_type": "code",
      "source": [
        "y_train = ((y_train - y_train.min())/(y_train.max() - y_train.min()) * (classes - 1)).astype(int)\n",
        "y_test = ((y_test - y_test.min())/ (y_test.max() - y_test.min()) * (classes - 1)).astype(int)"
      ],
      "metadata": {
        "id": "akiKrGemwSPy"
      },
      "execution_count": null,
      "outputs": []
    },
    {
      "cell_type": "code",
      "source": [
        "y_train_tensor = torch.tensor(y_train, dtype=torch.long)\n",
        "y_test_tensor = torch.tensor(y_test, dtype=torch.long)"
      ],
      "metadata": {
        "id": "Up2ewKtwwudx"
      },
      "execution_count": null,
      "outputs": []
    },
    {
      "cell_type": "code",
      "source": [
        "x_train_mean = x_train.mean()\n",
        "x_train_std = x_train.std()\n",
        "x_train = (x_train - x_train_mean) / x_train_std\n",
        "x_test = (x_test - x_train_mean) / x_train_std"
      ],
      "metadata": {
        "id": "dl4dcmTUw1jx"
      },
      "execution_count": null,
      "outputs": []
    },
    {
      "cell_type": "code",
      "source": [
        "x_train = x_train.reshape(x_train.shape[0], 1, x_train.shape[1], 1)\n",
        "x_test = x_test.reshape(x_test.shape[0], 1, x_test.shape[1], 1)"
      ],
      "metadata": {
        "id": "KBabNA6Pw2RC"
      },
      "execution_count": null,
      "outputs": []
    },
    {
      "cell_type": "code",
      "source": [
        "input_train = torch.tensor(x_train, dtype=torch.float32)\n",
        "input_test = torch.tensor(x_test, dtype=torch.float32)"
      ],
      "metadata": {
        "id": "bncX2Krxw-2e"
      },
      "execution_count": null,
      "outputs": []
    },
    {
      "cell_type": "code",
      "source": [
        "train_dataset = TensorDataset(input_train, y_train_tensor)\n",
        "train_dataloader = DataLoader(train_dataset, batch_size=16, shuffle=True)"
      ],
      "metadata": {
        "id": "eS3Sp5XOxCXU"
      },
      "execution_count": null,
      "outputs": []
    },
    {
      "cell_type": "code",
      "source": [
        "class FCN(L.LightningModule):\n",
        "\n",
        "  def __init__(self, input_shape, num_classes):\n",
        "\n",
        "    super().__init__()\n",
        "\n",
        "    self.conv1 = nn.Conv2d(in_channels=1, out_channels=128, kernel_size=8, stride=1, padding='same')\n",
        "    self.bn1 = nn.BatchNorm2d(128)\n",
        "\n",
        "    self.conv2 = nn.Conv2d(in_channels=128, out_channels=256, kernel_size=5, stride=1, padding='same')\n",
        "    self.bn2 = nn.BatchNorm2d(256)\n",
        "\n",
        "    self.conv3 = nn.Conv2d(in_channels=256, out_channels=128, kernel_size=3, stride=1, padding='same')\n",
        "    self.bn3 = nn.BatchNorm2d(128)\n",
        "\n",
        "    self.global_pool = nn.AdaptiveAvgPool2d((1,1))\n",
        "    self.fc = nn.Linear(128, num_classes)\n",
        "\n",
        "    self.loss = nn.CrossEntropyLoss()\n",
        "\n",
        "  def forward(self, x):\n",
        "\n",
        "    x = self.conv1(x)\n",
        "    x = self.bn1(x)\n",
        "    x = F.relu(x)\n",
        "\n",
        "    x = self.conv2(x)\n",
        "    x = self.bn2(x)\n",
        "    x = F.relu(x)\n",
        "\n",
        "    x = self.conv3(x)\n",
        "    x = self.bn3(x)\n",
        "    x = F.relu(x)\n",
        "\n",
        "    self.last_conv_output = x.clone()\n",
        "\n",
        "    x = self.global_pool(x)\n",
        "    x = torch.flatten(x, 1)\n",
        "    x = self.fc(x)\n",
        "\n",
        "    return x\n",
        "\n",
        "  def training_step(self, batch, batch_idx):\n",
        "    inputs, labels = batch\n",
        "    outputs = self.forward(inputs)\n",
        "    loss = self.loss(outputs, labels)\n",
        "    self.log('train_loss', loss)\n",
        "    return loss\n",
        "\n",
        "  def configure_optimizers(self):\n",
        "    optimizer = Adam(self.parameters(), lr=0.001)\n",
        "    return optimizer"
      ],
      "metadata": {
        "id": "bpZv3C9BxErS"
      },
      "execution_count": null,
      "outputs": []
    },
    {
      "cell_type": "code",
      "source": [
        "input_shape = input_train.shape[1:]  # Should be (1, 1, time_series_length)\n",
        "num_classes = len(torch.unique(y_train_tensor))\n"
      ],
      "metadata": {
        "id": "oFi3_GHv1SA1"
      },
      "execution_count": null,
      "outputs": []
    },
    {
      "cell_type": "code",
      "source": [
        "\n",
        "model = FCN(input_shape, num_classes)\n",
        "trainer = L.Trainer(max_epochs=2000)\n",
        "trainer.fit(model, train_dataloaders=train_dataloader)"
      ],
      "metadata": {
        "id": "WjjyLeN12JPL"
      },
      "execution_count": null,
      "outputs": []
    },
    {
      "cell_type": "code",
      "source": [
        "model.eval()"
      ],
      "metadata": {
        "id": "IdQFsBTv53aH"
      },
      "execution_count": null,
      "outputs": []
    },
    {
      "cell_type": "code",
      "source": [
        "with torch.no_grad():\n",
        "    logits = model(input_test[:100])\n",
        "    probs = torch.softmax(logits, dim=1)"
      ],
      "metadata": {
        "id": "tQe84DNv57MX"
      },
      "execution_count": null,
      "outputs": []
    },
    {
      "cell_type": "code",
      "source": [
        "last_conv = model.last_conv_output"
      ],
      "metadata": {
        "id": "YJKPn0rt5-9b"
      },
      "execution_count": null,
      "outputs": []
    },
    {
      "cell_type": "code",
      "source": [
        "last_conv = last_conv.squeeze(-1)"
      ],
      "metadata": {
        "id": "Ce26zTBH6CsA"
      },
      "execution_count": null,
      "outputs": []
    },
    {
      "cell_type": "code",
      "source": [
        "softmax_weights = model.fc.weight.data"
      ],
      "metadata": {
        "id": "GQcmrFrN6Ell"
      },
      "execution_count": null,
      "outputs": []
    },
    {
      "cell_type": "code",
      "metadata": {
        "id": "7d7b9728"
      },
      "source": [
        "print(\"Shape of last_conv before einsum:\", last_conv.shape)\n",
        "CAM = torch.einsum(\"bct,oc->bto\", last_conv, softmax_weights)"
      ],
      "execution_count": null,
      "outputs": []
    },
    {
      "cell_type": "code",
      "source": [
        "CAM = CAM.numpy()"
      ],
      "metadata": {
        "id": "fp-lmNCr6a7X"
      },
      "execution_count": null,
      "outputs": []
    },
    {
      "cell_type": "code",
      "source": [
        "CAM = (CAM - CAM.min(axis=1, keepdims=True)) / (CAM.max(axis=1, keepdims=True) - CAM.min(axis=1, keepdims=True) + 1e-8)\n"
      ],
      "metadata": {
        "id": "MaSiAa286ef8"
      },
      "execution_count": null,
      "outputs": []
    },
    {
      "cell_type": "code",
      "source": [
        "for k in range(20):\n",
        "    true_class = y_test[k]\n",
        "    class_likelihood = probs[k][true_class].item()\n",
        "\n",
        "    plt.figure(figsize=(13, 6))\n",
        "    plt.plot(input_test[k].squeeze().numpy(), label=\"Input\")\n",
        "    plt.scatter(np.arange(input_test.shape[-2]),\n",
        "                input_test[k].squeeze().numpy(),\n",
        "                c=CAM[k, :, true_class],\n",
        "                cmap='hot_r',\n",
        "                s=100)\n",
        "    plt.title(f\"True label: {true_class} | Likelihood: {class_likelihood:.4f}\")\n",
        "    plt.colorbar(label=\"Attention weight\")\n",
        "    plt.legend()\n",
        "    plt.show()"
      ],
      "metadata": {
        "id": "vZg2yWtJ6jSw"
      },
      "execution_count": null,
      "outputs": []
    }
  ]
}